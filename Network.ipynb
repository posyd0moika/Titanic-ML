{
 "cells": [
  {
   "cell_type": "code",
   "execution_count": 13,
   "metadata": {
    "collapsed": true
   },
   "outputs": [],
   "source": [
    "import tensorflow.keras\n",
    "import pandas as pd\n",
    "import numpy as np\n",
    "import tensorflow as tf\n",
    "import matplotlib.pyplot as plt\n",
    "from tensorflow.keras.layers import *"
   ]
  },
  {
   "cell_type": "code",
   "execution_count": 8,
   "outputs": [
    {
     "data": {
      "text/plain": "     Pclass     Sex   Age  SibSp  Parch     Fare Embarked\n0         3    male  22.0      1      0   7.2500        S\n1         1  female  38.0      1      0  71.2833        C\n2         3  female  26.0      0      0   7.9250        S\n3         1  female  35.0      1      0  53.1000        S\n4         3    male  35.0      0      0   8.0500        S\n..      ...     ...   ...    ...    ...      ...      ...\n886       2    male  27.0      0      0  13.0000        S\n887       1  female  19.0      0      0  30.0000        S\n888       3  female   NaN      1      2  23.4500        S\n889       1    male  26.0      0      0  30.0000        C\n890       3    male  32.0      0      0   7.7500        Q\n\n[891 rows x 7 columns]",
      "text/html": "<div>\n<style scoped>\n    .dataframe tbody tr th:only-of-type {\n        vertical-align: middle;\n    }\n\n    .dataframe tbody tr th {\n        vertical-align: top;\n    }\n\n    .dataframe thead th {\n        text-align: right;\n    }\n</style>\n<table border=\"1\" class=\"dataframe\">\n  <thead>\n    <tr style=\"text-align: right;\">\n      <th></th>\n      <th>Pclass</th>\n      <th>Sex</th>\n      <th>Age</th>\n      <th>SibSp</th>\n      <th>Parch</th>\n      <th>Fare</th>\n      <th>Embarked</th>\n    </tr>\n  </thead>\n  <tbody>\n    <tr>\n      <th>0</th>\n      <td>3</td>\n      <td>male</td>\n      <td>22.0</td>\n      <td>1</td>\n      <td>0</td>\n      <td>7.2500</td>\n      <td>S</td>\n    </tr>\n    <tr>\n      <th>1</th>\n      <td>1</td>\n      <td>female</td>\n      <td>38.0</td>\n      <td>1</td>\n      <td>0</td>\n      <td>71.2833</td>\n      <td>C</td>\n    </tr>\n    <tr>\n      <th>2</th>\n      <td>3</td>\n      <td>female</td>\n      <td>26.0</td>\n      <td>0</td>\n      <td>0</td>\n      <td>7.9250</td>\n      <td>S</td>\n    </tr>\n    <tr>\n      <th>3</th>\n      <td>1</td>\n      <td>female</td>\n      <td>35.0</td>\n      <td>1</td>\n      <td>0</td>\n      <td>53.1000</td>\n      <td>S</td>\n    </tr>\n    <tr>\n      <th>4</th>\n      <td>3</td>\n      <td>male</td>\n      <td>35.0</td>\n      <td>0</td>\n      <td>0</td>\n      <td>8.0500</td>\n      <td>S</td>\n    </tr>\n    <tr>\n      <th>...</th>\n      <td>...</td>\n      <td>...</td>\n      <td>...</td>\n      <td>...</td>\n      <td>...</td>\n      <td>...</td>\n      <td>...</td>\n    </tr>\n    <tr>\n      <th>886</th>\n      <td>2</td>\n      <td>male</td>\n      <td>27.0</td>\n      <td>0</td>\n      <td>0</td>\n      <td>13.0000</td>\n      <td>S</td>\n    </tr>\n    <tr>\n      <th>887</th>\n      <td>1</td>\n      <td>female</td>\n      <td>19.0</td>\n      <td>0</td>\n      <td>0</td>\n      <td>30.0000</td>\n      <td>S</td>\n    </tr>\n    <tr>\n      <th>888</th>\n      <td>3</td>\n      <td>female</td>\n      <td>NaN</td>\n      <td>1</td>\n      <td>2</td>\n      <td>23.4500</td>\n      <td>S</td>\n    </tr>\n    <tr>\n      <th>889</th>\n      <td>1</td>\n      <td>male</td>\n      <td>26.0</td>\n      <td>0</td>\n      <td>0</td>\n      <td>30.0000</td>\n      <td>C</td>\n    </tr>\n    <tr>\n      <th>890</th>\n      <td>3</td>\n      <td>male</td>\n      <td>32.0</td>\n      <td>0</td>\n      <td>0</td>\n      <td>7.7500</td>\n      <td>Q</td>\n    </tr>\n  </tbody>\n</table>\n<p>891 rows × 7 columns</p>\n</div>"
     },
     "execution_count": 8,
     "metadata": {},
     "output_type": "execute_result"
    }
   ],
   "source": [
    "data1 = pd.read_csv(\"train.csv\")\n",
    "y_train = data1.Survived\n",
    "del data1[\"Survived\"]\n",
    "x_train = data1.drop(['PassengerId','Name','Ticket','Cabin'],axis=1)\n",
    "x_train"
   ],
   "metadata": {
    "collapsed": false
   }
  },
  {
   "cell_type": "code",
   "execution_count": 9,
   "outputs": [
    {
     "data": {
      "text/plain": "     Pclass     Sex   Age  SibSp  Parch      Fare Embarked\n0         3    male  34.5      0      0    7.8292        Q\n1         3  female  47.0      1      0    7.0000        S\n2         2    male  62.0      0      0    9.6875        Q\n3         3    male  27.0      0      0    8.6625        S\n4         3  female  22.0      1      1   12.2875        S\n..      ...     ...   ...    ...    ...       ...      ...\n413       3    male   NaN      0      0    8.0500        S\n414       1  female  39.0      0      0  108.9000        C\n415       3    male  38.5      0      0    7.2500        S\n416       3    male   NaN      0      0    8.0500        S\n417       3    male   NaN      1      1   22.3583        C\n\n[418 rows x 7 columns]",
      "text/html": "<div>\n<style scoped>\n    .dataframe tbody tr th:only-of-type {\n        vertical-align: middle;\n    }\n\n    .dataframe tbody tr th {\n        vertical-align: top;\n    }\n\n    .dataframe thead th {\n        text-align: right;\n    }\n</style>\n<table border=\"1\" class=\"dataframe\">\n  <thead>\n    <tr style=\"text-align: right;\">\n      <th></th>\n      <th>Pclass</th>\n      <th>Sex</th>\n      <th>Age</th>\n      <th>SibSp</th>\n      <th>Parch</th>\n      <th>Fare</th>\n      <th>Embarked</th>\n    </tr>\n  </thead>\n  <tbody>\n    <tr>\n      <th>0</th>\n      <td>3</td>\n      <td>male</td>\n      <td>34.5</td>\n      <td>0</td>\n      <td>0</td>\n      <td>7.8292</td>\n      <td>Q</td>\n    </tr>\n    <tr>\n      <th>1</th>\n      <td>3</td>\n      <td>female</td>\n      <td>47.0</td>\n      <td>1</td>\n      <td>0</td>\n      <td>7.0000</td>\n      <td>S</td>\n    </tr>\n    <tr>\n      <th>2</th>\n      <td>2</td>\n      <td>male</td>\n      <td>62.0</td>\n      <td>0</td>\n      <td>0</td>\n      <td>9.6875</td>\n      <td>Q</td>\n    </tr>\n    <tr>\n      <th>3</th>\n      <td>3</td>\n      <td>male</td>\n      <td>27.0</td>\n      <td>0</td>\n      <td>0</td>\n      <td>8.6625</td>\n      <td>S</td>\n    </tr>\n    <tr>\n      <th>4</th>\n      <td>3</td>\n      <td>female</td>\n      <td>22.0</td>\n      <td>1</td>\n      <td>1</td>\n      <td>12.2875</td>\n      <td>S</td>\n    </tr>\n    <tr>\n      <th>...</th>\n      <td>...</td>\n      <td>...</td>\n      <td>...</td>\n      <td>...</td>\n      <td>...</td>\n      <td>...</td>\n      <td>...</td>\n    </tr>\n    <tr>\n      <th>413</th>\n      <td>3</td>\n      <td>male</td>\n      <td>NaN</td>\n      <td>0</td>\n      <td>0</td>\n      <td>8.0500</td>\n      <td>S</td>\n    </tr>\n    <tr>\n      <th>414</th>\n      <td>1</td>\n      <td>female</td>\n      <td>39.0</td>\n      <td>0</td>\n      <td>0</td>\n      <td>108.9000</td>\n      <td>C</td>\n    </tr>\n    <tr>\n      <th>415</th>\n      <td>3</td>\n      <td>male</td>\n      <td>38.5</td>\n      <td>0</td>\n      <td>0</td>\n      <td>7.2500</td>\n      <td>S</td>\n    </tr>\n    <tr>\n      <th>416</th>\n      <td>3</td>\n      <td>male</td>\n      <td>NaN</td>\n      <td>0</td>\n      <td>0</td>\n      <td>8.0500</td>\n      <td>S</td>\n    </tr>\n    <tr>\n      <th>417</th>\n      <td>3</td>\n      <td>male</td>\n      <td>NaN</td>\n      <td>1</td>\n      <td>1</td>\n      <td>22.3583</td>\n      <td>C</td>\n    </tr>\n  </tbody>\n</table>\n<p>418 rows × 7 columns</p>\n</div>"
     },
     "execution_count": 9,
     "metadata": {},
     "output_type": "execute_result"
    }
   ],
   "source": [
    "data2 = pd.read_csv(\"test.csv\")\n",
    "y_test = pd.read_csv(\"gender_submission.csv\").Survived\n",
    "x_test = data2.drop(['PassengerId','Name','Ticket','Cabin'],axis=1)\n",
    "x_test"
   ],
   "metadata": {
    "collapsed": false
   }
  },
  {
   "cell_type": "code",
   "execution_count": 10,
   "outputs": [
    {
     "name": "stderr",
     "output_type": "stream",
     "text": [
      "/var/folders/p8/hs842n8x29x1xnhy3skzz61h0000gn/T/ipykernel_3889/2300741674.py:14: SettingWithCopyWarning: \n",
      "A value is trying to be set on a copy of a slice from a DataFrame\n",
      "\n",
      "See the caveats in the documentation: https://pandas.pydata.org/pandas-docs/stable/user_guide/indexing.html#returning-a-view-versus-a-copy\n",
      "  x_train.Sex[x_train.Sex == \"male\"] = 1\n",
      "/var/folders/p8/hs842n8x29x1xnhy3skzz61h0000gn/T/ipykernel_3889/2300741674.py:15: SettingWithCopyWarning: \n",
      "A value is trying to be set on a copy of a slice from a DataFrame\n",
      "\n",
      "See the caveats in the documentation: https://pandas.pydata.org/pandas-docs/stable/user_guide/indexing.html#returning-a-view-versus-a-copy\n",
      "  x_train.Sex[x_train.Sex == \"female\"] = 0\n",
      "/var/folders/p8/hs842n8x29x1xnhy3skzz61h0000gn/T/ipykernel_3889/2300741674.py:17: SettingWithCopyWarning: \n",
      "A value is trying to be set on a copy of a slice from a DataFrame\n",
      "\n",
      "See the caveats in the documentation: https://pandas.pydata.org/pandas-docs/stable/user_guide/indexing.html#returning-a-view-versus-a-copy\n",
      "  x_test.Sex[x_test.Sex == \"male\"] = 1\n",
      "/var/folders/p8/hs842n8x29x1xnhy3skzz61h0000gn/T/ipykernel_3889/2300741674.py:18: SettingWithCopyWarning: \n",
      "A value is trying to be set on a copy of a slice from a DataFrame\n",
      "\n",
      "See the caveats in the documentation: https://pandas.pydata.org/pandas-docs/stable/user_guide/indexing.html#returning-a-view-versus-a-copy\n",
      "  x_test.Sex[x_test.Sex == \"female\"] = 0\n",
      "/var/folders/p8/hs842n8x29x1xnhy3skzz61h0000gn/T/ipykernel_3889/2300741674.py:21: SettingWithCopyWarning: \n",
      "A value is trying to be set on a copy of a slice from a DataFrame\n",
      "\n",
      "See the caveats in the documentation: https://pandas.pydata.org/pandas-docs/stable/user_guide/indexing.html#returning-a-view-versus-a-copy\n",
      "  x_train[\"PC1\"][x_train.Pclass == 1 ] =  1\n",
      "/var/folders/p8/hs842n8x29x1xnhy3skzz61h0000gn/T/ipykernel_3889/2300741674.py:22: SettingWithCopyWarning: \n",
      "A value is trying to be set on a copy of a slice from a DataFrame\n",
      "\n",
      "See the caveats in the documentation: https://pandas.pydata.org/pandas-docs/stable/user_guide/indexing.html#returning-a-view-versus-a-copy\n",
      "  x_train[\"PC2\"][x_train.Pclass == 2 ] =  1\n",
      "/var/folders/p8/hs842n8x29x1xnhy3skzz61h0000gn/T/ipykernel_3889/2300741674.py:23: SettingWithCopyWarning: \n",
      "A value is trying to be set on a copy of a slice from a DataFrame\n",
      "\n",
      "See the caveats in the documentation: https://pandas.pydata.org/pandas-docs/stable/user_guide/indexing.html#returning-a-view-versus-a-copy\n",
      "  x_train[\"PC3\"][x_train.Pclass == 3 ] =  1\n",
      "/var/folders/p8/hs842n8x29x1xnhy3skzz61h0000gn/T/ipykernel_3889/2300741674.py:27: SettingWithCopyWarning: \n",
      "A value is trying to be set on a copy of a slice from a DataFrame\n",
      "\n",
      "See the caveats in the documentation: https://pandas.pydata.org/pandas-docs/stable/user_guide/indexing.html#returning-a-view-versus-a-copy\n",
      "  x_test[\"PC1\"][x_test.Pclass == 1 ] =  1\n",
      "/var/folders/p8/hs842n8x29x1xnhy3skzz61h0000gn/T/ipykernel_3889/2300741674.py:28: SettingWithCopyWarning: \n",
      "A value is trying to be set on a copy of a slice from a DataFrame\n",
      "\n",
      "See the caveats in the documentation: https://pandas.pydata.org/pandas-docs/stable/user_guide/indexing.html#returning-a-view-versus-a-copy\n",
      "  x_test[\"PC2\"][x_test.Pclass == 2 ] =  1\n",
      "/var/folders/p8/hs842n8x29x1xnhy3skzz61h0000gn/T/ipykernel_3889/2300741674.py:29: SettingWithCopyWarning: \n",
      "A value is trying to be set on a copy of a slice from a DataFrame\n",
      "\n",
      "See the caveats in the documentation: https://pandas.pydata.org/pandas-docs/stable/user_guide/indexing.html#returning-a-view-versus-a-copy\n",
      "  x_test[\"PC3\"][x_test.Pclass == 3 ] =  1\n",
      "/var/folders/p8/hs842n8x29x1xnhy3skzz61h0000gn/T/ipykernel_3889/2300741674.py:33: SettingWithCopyWarning: \n",
      "A value is trying to be set on a copy of a slice from a DataFrame\n",
      "\n",
      "See the caveats in the documentation: https://pandas.pydata.org/pandas-docs/stable/user_guide/indexing.html#returning-a-view-versus-a-copy\n",
      "  x_train[\"QC1\"][x_train.Embarked == \"C\" ] =  1\n",
      "/var/folders/p8/hs842n8x29x1xnhy3skzz61h0000gn/T/ipykernel_3889/2300741674.py:34: SettingWithCopyWarning: \n",
      "A value is trying to be set on a copy of a slice from a DataFrame\n",
      "\n",
      "See the caveats in the documentation: https://pandas.pydata.org/pandas-docs/stable/user_guide/indexing.html#returning-a-view-versus-a-copy\n",
      "  x_train[\"QC2\"][x_train.Embarked == \"Q\" ] =  1\n",
      "/var/folders/p8/hs842n8x29x1xnhy3skzz61h0000gn/T/ipykernel_3889/2300741674.py:35: SettingWithCopyWarning: \n",
      "A value is trying to be set on a copy of a slice from a DataFrame\n",
      "\n",
      "See the caveats in the documentation: https://pandas.pydata.org/pandas-docs/stable/user_guide/indexing.html#returning-a-view-versus-a-copy\n",
      "  x_train[\"QC3\"][x_train.Embarked == \"S\" ] =  1\n",
      "/var/folders/p8/hs842n8x29x1xnhy3skzz61h0000gn/T/ipykernel_3889/2300741674.py:39: SettingWithCopyWarning: \n",
      "A value is trying to be set on a copy of a slice from a DataFrame\n",
      "\n",
      "See the caveats in the documentation: https://pandas.pydata.org/pandas-docs/stable/user_guide/indexing.html#returning-a-view-versus-a-copy\n",
      "  x_test[\"QC1\"][x_test.Embarked == \"C\" ] =  1\n",
      "/var/folders/p8/hs842n8x29x1xnhy3skzz61h0000gn/T/ipykernel_3889/2300741674.py:40: SettingWithCopyWarning: \n",
      "A value is trying to be set on a copy of a slice from a DataFrame\n",
      "\n",
      "See the caveats in the documentation: https://pandas.pydata.org/pandas-docs/stable/user_guide/indexing.html#returning-a-view-versus-a-copy\n",
      "  x_test[\"QC2\"][x_test.Embarked == \"Q\" ] =  1\n",
      "/var/folders/p8/hs842n8x29x1xnhy3skzz61h0000gn/T/ipykernel_3889/2300741674.py:41: SettingWithCopyWarning: \n",
      "A value is trying to be set on a copy of a slice from a DataFrame\n",
      "\n",
      "See the caveats in the documentation: https://pandas.pydata.org/pandas-docs/stable/user_guide/indexing.html#returning-a-view-versus-a-copy\n",
      "  x_test[\"QC3\"][x_test.Embarked == \"S\" ] =  1\n"
     ]
    },
    {
     "data": {
      "text/plain": "    Sex    Age  SibSp     Parch      Fare  PC1  PC2  PC3  QC1  QC2  QC3\n0     1  0.345      0  0.000000  0.015282    0    0    1    0    1    0\n1     0  0.470      1  0.000000  0.013663    0    0    1    0    0    1\n2     1  0.620      0  0.000000  0.018909    0    1    0    0    1    0\n3     1  0.270      0  0.000000  0.016908    0    0    1    0    0    1\n4     0  0.220      1  0.166667  0.023984    0    0    1    0    0    1\n..   ..    ...    ...       ...       ...  ...  ...  ...  ...  ...  ...\n413   0  0.000      0  0.000000  0.000000    0    0    0    0    0    0\n414   0  0.390      0  0.000000  0.212559    1    0    0    1    0    0\n415   1  0.385      0  0.000000  0.014151    0    0    1    0    0    1\n416   0  0.000      0  0.000000  0.000000    0    0    0    0    0    0\n417   0  0.000      0  0.000000  0.000000    0    0    0    0    0    0\n\n[418 rows x 11 columns]",
      "text/html": "<div>\n<style scoped>\n    .dataframe tbody tr th:only-of-type {\n        vertical-align: middle;\n    }\n\n    .dataframe tbody tr th {\n        vertical-align: top;\n    }\n\n    .dataframe thead th {\n        text-align: right;\n    }\n</style>\n<table border=\"1\" class=\"dataframe\">\n  <thead>\n    <tr style=\"text-align: right;\">\n      <th></th>\n      <th>Sex</th>\n      <th>Age</th>\n      <th>SibSp</th>\n      <th>Parch</th>\n      <th>Fare</th>\n      <th>PC1</th>\n      <th>PC2</th>\n      <th>PC3</th>\n      <th>QC1</th>\n      <th>QC2</th>\n      <th>QC3</th>\n    </tr>\n  </thead>\n  <tbody>\n    <tr>\n      <th>0</th>\n      <td>1</td>\n      <td>0.345</td>\n      <td>0</td>\n      <td>0.000000</td>\n      <td>0.015282</td>\n      <td>0</td>\n      <td>0</td>\n      <td>1</td>\n      <td>0</td>\n      <td>1</td>\n      <td>0</td>\n    </tr>\n    <tr>\n      <th>1</th>\n      <td>0</td>\n      <td>0.470</td>\n      <td>1</td>\n      <td>0.000000</td>\n      <td>0.013663</td>\n      <td>0</td>\n      <td>0</td>\n      <td>1</td>\n      <td>0</td>\n      <td>0</td>\n      <td>1</td>\n    </tr>\n    <tr>\n      <th>2</th>\n      <td>1</td>\n      <td>0.620</td>\n      <td>0</td>\n      <td>0.000000</td>\n      <td>0.018909</td>\n      <td>0</td>\n      <td>1</td>\n      <td>0</td>\n      <td>0</td>\n      <td>1</td>\n      <td>0</td>\n    </tr>\n    <tr>\n      <th>3</th>\n      <td>1</td>\n      <td>0.270</td>\n      <td>0</td>\n      <td>0.000000</td>\n      <td>0.016908</td>\n      <td>0</td>\n      <td>0</td>\n      <td>1</td>\n      <td>0</td>\n      <td>0</td>\n      <td>1</td>\n    </tr>\n    <tr>\n      <th>4</th>\n      <td>0</td>\n      <td>0.220</td>\n      <td>1</td>\n      <td>0.166667</td>\n      <td>0.023984</td>\n      <td>0</td>\n      <td>0</td>\n      <td>1</td>\n      <td>0</td>\n      <td>0</td>\n      <td>1</td>\n    </tr>\n    <tr>\n      <th>...</th>\n      <td>...</td>\n      <td>...</td>\n      <td>...</td>\n      <td>...</td>\n      <td>...</td>\n      <td>...</td>\n      <td>...</td>\n      <td>...</td>\n      <td>...</td>\n      <td>...</td>\n      <td>...</td>\n    </tr>\n    <tr>\n      <th>413</th>\n      <td>0</td>\n      <td>0.000</td>\n      <td>0</td>\n      <td>0.000000</td>\n      <td>0.000000</td>\n      <td>0</td>\n      <td>0</td>\n      <td>0</td>\n      <td>0</td>\n      <td>0</td>\n      <td>0</td>\n    </tr>\n    <tr>\n      <th>414</th>\n      <td>0</td>\n      <td>0.390</td>\n      <td>0</td>\n      <td>0.000000</td>\n      <td>0.212559</td>\n      <td>1</td>\n      <td>0</td>\n      <td>0</td>\n      <td>1</td>\n      <td>0</td>\n      <td>0</td>\n    </tr>\n    <tr>\n      <th>415</th>\n      <td>1</td>\n      <td>0.385</td>\n      <td>0</td>\n      <td>0.000000</td>\n      <td>0.014151</td>\n      <td>0</td>\n      <td>0</td>\n      <td>1</td>\n      <td>0</td>\n      <td>0</td>\n      <td>1</td>\n    </tr>\n    <tr>\n      <th>416</th>\n      <td>0</td>\n      <td>0.000</td>\n      <td>0</td>\n      <td>0.000000</td>\n      <td>0.000000</td>\n      <td>0</td>\n      <td>0</td>\n      <td>0</td>\n      <td>0</td>\n      <td>0</td>\n      <td>0</td>\n    </tr>\n    <tr>\n      <th>417</th>\n      <td>0</td>\n      <td>0.000</td>\n      <td>0</td>\n      <td>0.000000</td>\n      <td>0.000000</td>\n      <td>0</td>\n      <td>0</td>\n      <td>0</td>\n      <td>0</td>\n      <td>0</td>\n      <td>0</td>\n    </tr>\n  </tbody>\n</table>\n<p>418 rows × 11 columns</p>\n</div>"
     },
     "execution_count": 10,
     "metadata": {},
     "output_type": "execute_result"
    }
   ],
   "source": [
    "x_train.Age /= 100\n",
    "x_test.Age /= 100\n",
    "x_train[x_train.Age.isnull()] = 0\n",
    "x_test[x_test.Age.isnull()] = 0\n",
    "\n",
    "m = 6\n",
    "x_train.Parch /= m\n",
    "x_test.Parch /= m\n",
    "\n",
    "m = max(x_train.Fare)\n",
    "x_train.Fare /= m\n",
    "x_test.Fare /= m\n",
    "\n",
    "x_train.Sex[x_train.Sex == \"male\"] = 1\n",
    "x_train.Sex[x_train.Sex == \"female\"] = 0\n",
    "\n",
    "x_test.Sex[x_test.Sex == \"male\"] = 1\n",
    "x_test.Sex[x_test.Sex == \"female\"] = 0\n",
    "\n",
    "x_train[[\"PC1\",\"PC2\",\"PC3\"]] = 0\n",
    "x_train[\"PC1\"][x_train.Pclass == 1 ] =  1\n",
    "x_train[\"PC2\"][x_train.Pclass == 2 ] =  1\n",
    "x_train[\"PC3\"][x_train.Pclass == 3 ] =  1\n",
    "del x_train[\"Pclass\"]\n",
    "\n",
    "x_test[[\"PC1\",\"PC2\",\"PC3\"]] = 0\n",
    "x_test[\"PC1\"][x_test.Pclass == 1 ] =  1\n",
    "x_test[\"PC2\"][x_test.Pclass == 2 ] =  1\n",
    "x_test[\"PC3\"][x_test.Pclass == 3 ] =  1\n",
    "del x_test[\"Pclass\"]\n",
    "\n",
    "x_train[[\"QC1\",\"QC2\",\"QC3\"]] = 0\n",
    "x_train[\"QC1\"][x_train.Embarked == \"C\" ] =  1\n",
    "x_train[\"QC2\"][x_train.Embarked == \"Q\" ] =  1\n",
    "x_train[\"QC3\"][x_train.Embarked == \"S\" ] =  1\n",
    "del x_train[\"Embarked\"]\n",
    "\n",
    "x_test[[\"QC1\",\"QC2\",\"QC3\"]] = 0\n",
    "x_test[\"QC1\"][x_test.Embarked == \"C\" ] =  1\n",
    "x_test[\"QC2\"][x_test.Embarked == \"Q\" ] =  1\n",
    "x_test[\"QC3\"][x_test.Embarked == \"S\" ] =  1\n",
    "del x_test[\"Embarked\"]\n",
    "\n",
    "x_test"
   ],
   "metadata": {
    "collapsed": false
   }
  },
  {
   "cell_type": "code",
   "execution_count": 11,
   "outputs": [
    {
     "data": {
      "text/plain": "((891, 11), (891,), (418, 11), (418,))"
     },
     "execution_count": 11,
     "metadata": {},
     "output_type": "execute_result"
    }
   ],
   "source": [
    "x_train = np.array(x_train,dtype=np.float32)\n",
    "y_train = np.array(y_train,dtype=np.float32)\n",
    "\n",
    "x_test = np.array(x_test,dtype=np.float32)\n",
    "y_test = np.array(y_test,dtype=np.float32)\n",
    "x_train.shape, y_train.shape ,x_test.shape, y_test.shape"
   ],
   "metadata": {
    "collapsed": false
   }
  },
  {
   "cell_type": "code",
   "execution_count": 72,
   "outputs": [
    {
     "name": "stdout",
     "output_type": "stream",
     "text": [
      "Epoch 1/15\n",
      "23/23 [==============================] - 1s 3ms/step - loss: 0.6881 - accuracy: 0.6306 - val_loss: 0.6710 - val_accuracy: 0.8380\n",
      "Epoch 2/15\n",
      "23/23 [==============================] - 0s 1ms/step - loss: 0.6622 - accuracy: 0.7430 - val_loss: 0.6177 - val_accuracy: 0.8212\n",
      "Epoch 3/15\n",
      "23/23 [==============================] - 0s 1ms/step - loss: 0.5995 - accuracy: 0.7500 - val_loss: 0.5337 - val_accuracy: 0.8324\n",
      "Epoch 4/15\n",
      "23/23 [==============================] - 0s 1ms/step - loss: 0.5511 - accuracy: 0.7584 - val_loss: 0.4829 - val_accuracy: 0.8324\n",
      "Epoch 5/15\n",
      "23/23 [==============================] - 0s 1ms/step - loss: 0.5206 - accuracy: 0.7683 - val_loss: 0.4601 - val_accuracy: 0.8436\n",
      "Epoch 6/15\n",
      "23/23 [==============================] - 0s 1ms/step - loss: 0.5090 - accuracy: 0.7584 - val_loss: 0.4465 - val_accuracy: 0.8492\n",
      "Epoch 7/15\n",
      "23/23 [==============================] - 0s 1ms/step - loss: 0.4982 - accuracy: 0.7612 - val_loss: 0.4392 - val_accuracy: 0.8324\n",
      "Epoch 8/15\n",
      "23/23 [==============================] - 0s 1ms/step - loss: 0.4927 - accuracy: 0.7683 - val_loss: 0.4354 - val_accuracy: 0.8380\n",
      "Epoch 9/15\n",
      "23/23 [==============================] - 0s 1ms/step - loss: 0.4878 - accuracy: 0.7739 - val_loss: 0.4302 - val_accuracy: 0.8324\n",
      "Epoch 10/15\n",
      "23/23 [==============================] - 0s 1ms/step - loss: 0.4882 - accuracy: 0.7711 - val_loss: 0.4279 - val_accuracy: 0.8380\n",
      "Epoch 11/15\n",
      "23/23 [==============================] - 0s 1ms/step - loss: 0.4861 - accuracy: 0.7767 - val_loss: 0.4269 - val_accuracy: 0.8380\n",
      "Epoch 12/15\n",
      "23/23 [==============================] - 0s 990us/step - loss: 0.4749 - accuracy: 0.7865 - val_loss: 0.4269 - val_accuracy: 0.8268\n",
      "Epoch 13/15\n",
      "23/23 [==============================] - 0s 1ms/step - loss: 0.4735 - accuracy: 0.7865 - val_loss: 0.4232 - val_accuracy: 0.8380\n",
      "Epoch 14/15\n",
      "23/23 [==============================] - 0s 1ms/step - loss: 0.4798 - accuracy: 0.7865 - val_loss: 0.4238 - val_accuracy: 0.8212\n",
      "Epoch 15/15\n",
      "23/23 [==============================] - 0s 1ms/step - loss: 0.4820 - accuracy: 0.7851 - val_loss: 0.4243 - val_accuracy: 0.8268\n"
     ]
    }
   ],
   "source": [
    "model = tf.keras.Sequential([\n",
    "    Input((11,)),\n",
    "    Dense(64,\"relu\"),\n",
    "    Dropout(0.1),\n",
    "    Dense(32,\"relu\"),\n",
    "    Dense(8,\"relu\"),\n",
    "    Dense(1,\"sigmoid\"),\n",
    "])\n",
    "model.compile(\"adam\",\"binary_crossentropy\",['accuracy'],)\n",
    "his = model.fit(x_train,y_train,32,15,validation_split=0.2).history"
   ],
   "metadata": {
    "collapsed": false
   }
  },
  {
   "cell_type": "code",
   "execution_count": 73,
   "outputs": [
    {
     "name": "stdout",
     "output_type": "stream",
     "text": [
      "14/14 [==============================] - 0s 731us/step - loss: nan - accuracy: 0.8493\n"
     ]
    },
    {
     "data": {
      "text/plain": "[nan, 0.8492823243141174]"
     },
     "execution_count": 73,
     "metadata": {},
     "output_type": "execute_result"
    }
   ],
   "source": [
    "model.evaluate(x_test,y_test)"
   ],
   "metadata": {
    "collapsed": false
   }
  },
  {
   "cell_type": "code",
   "execution_count": null,
   "outputs": [],
   "source": [],
   "metadata": {
    "collapsed": false
   }
  }
 ],
 "metadata": {
  "kernelspec": {
   "display_name": "Python 3",
   "language": "python",
   "name": "python3"
  },
  "language_info": {
   "codemirror_mode": {
    "name": "ipython",
    "version": 2
   },
   "file_extension": ".py",
   "mimetype": "text/x-python",
   "name": "python",
   "nbconvert_exporter": "python",
   "pygments_lexer": "ipython2",
   "version": "2.7.6"
  }
 },
 "nbformat": 4,
 "nbformat_minor": 0
}
