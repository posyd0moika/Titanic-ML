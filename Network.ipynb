{
 "cells": [
  {
   "cell_type": "code",
   "execution_count": 193,
   "metadata": {
    "collapsed": true
   },
   "outputs": [],
   "source": [
    "import pandas as pd\n",
    "import numpy as np\n",
    "import tensorflow as tf\n",
    "import matplotlib.pyplot as plt\n",
    "from tensorflow.keras.layers import Dense, Dropout, Input"
   ]
  },
  {
   "cell_type": "code",
   "execution_count": 194,
   "outputs": [
    {
     "data": {
      "text/plain": "     Pclass     Sex   Age  SibSp  Parch     Fare Embarked\n0         3    male  22.0      1      0   7.2500        S\n1         1  female  38.0      1      0  71.2833        C\n2         3  female  26.0      0      0   7.9250        S\n3         1  female  35.0      1      0  53.1000        S\n4         3    male  35.0      0      0   8.0500        S\n..      ...     ...   ...    ...    ...      ...      ...\n886       2    male  27.0      0      0  13.0000        S\n887       1  female  19.0      0      0  30.0000        S\n888       3  female   NaN      1      2  23.4500        S\n889       1    male  26.0      0      0  30.0000        C\n890       3    male  32.0      0      0   7.7500        Q\n\n[891 rows x 7 columns]",
      "text/html": "<div>\n<style scoped>\n    .dataframe tbody tr th:only-of-type {\n        vertical-align: middle;\n    }\n\n    .dataframe tbody tr th {\n        vertical-align: top;\n    }\n\n    .dataframe thead th {\n        text-align: right;\n    }\n</style>\n<table border=\"1\" class=\"dataframe\">\n  <thead>\n    <tr style=\"text-align: right;\">\n      <th></th>\n      <th>Pclass</th>\n      <th>Sex</th>\n      <th>Age</th>\n      <th>SibSp</th>\n      <th>Parch</th>\n      <th>Fare</th>\n      <th>Embarked</th>\n    </tr>\n  </thead>\n  <tbody>\n    <tr>\n      <th>0</th>\n      <td>3</td>\n      <td>male</td>\n      <td>22.0</td>\n      <td>1</td>\n      <td>0</td>\n      <td>7.2500</td>\n      <td>S</td>\n    </tr>\n    <tr>\n      <th>1</th>\n      <td>1</td>\n      <td>female</td>\n      <td>38.0</td>\n      <td>1</td>\n      <td>0</td>\n      <td>71.2833</td>\n      <td>C</td>\n    </tr>\n    <tr>\n      <th>2</th>\n      <td>3</td>\n      <td>female</td>\n      <td>26.0</td>\n      <td>0</td>\n      <td>0</td>\n      <td>7.9250</td>\n      <td>S</td>\n    </tr>\n    <tr>\n      <th>3</th>\n      <td>1</td>\n      <td>female</td>\n      <td>35.0</td>\n      <td>1</td>\n      <td>0</td>\n      <td>53.1000</td>\n      <td>S</td>\n    </tr>\n    <tr>\n      <th>4</th>\n      <td>3</td>\n      <td>male</td>\n      <td>35.0</td>\n      <td>0</td>\n      <td>0</td>\n      <td>8.0500</td>\n      <td>S</td>\n    </tr>\n    <tr>\n      <th>...</th>\n      <td>...</td>\n      <td>...</td>\n      <td>...</td>\n      <td>...</td>\n      <td>...</td>\n      <td>...</td>\n      <td>...</td>\n    </tr>\n    <tr>\n      <th>886</th>\n      <td>2</td>\n      <td>male</td>\n      <td>27.0</td>\n      <td>0</td>\n      <td>0</td>\n      <td>13.0000</td>\n      <td>S</td>\n    </tr>\n    <tr>\n      <th>887</th>\n      <td>1</td>\n      <td>female</td>\n      <td>19.0</td>\n      <td>0</td>\n      <td>0</td>\n      <td>30.0000</td>\n      <td>S</td>\n    </tr>\n    <tr>\n      <th>888</th>\n      <td>3</td>\n      <td>female</td>\n      <td>NaN</td>\n      <td>1</td>\n      <td>2</td>\n      <td>23.4500</td>\n      <td>S</td>\n    </tr>\n    <tr>\n      <th>889</th>\n      <td>1</td>\n      <td>male</td>\n      <td>26.0</td>\n      <td>0</td>\n      <td>0</td>\n      <td>30.0000</td>\n      <td>C</td>\n    </tr>\n    <tr>\n      <th>890</th>\n      <td>3</td>\n      <td>male</td>\n      <td>32.0</td>\n      <td>0</td>\n      <td>0</td>\n      <td>7.7500</td>\n      <td>Q</td>\n    </tr>\n  </tbody>\n</table>\n<p>891 rows × 7 columns</p>\n</div>"
     },
     "execution_count": 194,
     "metadata": {},
     "output_type": "execute_result"
    }
   ],
   "source": [
    "data1 = pd.read_csv(\"train.csv\")\n",
    "y_train = data1.Survived\n",
    "del data1[\"Survived\"]\n",
    "x_train = data1.drop(['PassengerId', 'Name', 'Ticket', 'Cabin'], axis=1)\n",
    "x_train"
   ],
   "metadata": {
    "collapsed": false
   }
  },
  {
   "cell_type": "code",
   "execution_count": 195,
   "outputs": [
    {
     "data": {
      "text/plain": "     Pclass     Sex   Age  SibSp  Parch      Fare Embarked\n0         3    male  34.5      0      0    7.8292        Q\n1         3  female  47.0      1      0    7.0000        S\n2         2    male  62.0      0      0    9.6875        Q\n3         3    male  27.0      0      0    8.6625        S\n4         3  female  22.0      1      1   12.2875        S\n..      ...     ...   ...    ...    ...       ...      ...\n413       3    male   NaN      0      0    8.0500        S\n414       1  female  39.0      0      0  108.9000        C\n415       3    male  38.5      0      0    7.2500        S\n416       3    male   NaN      0      0    8.0500        S\n417       3    male   NaN      1      1   22.3583        C\n\n[418 rows x 7 columns]",
      "text/html": "<div>\n<style scoped>\n    .dataframe tbody tr th:only-of-type {\n        vertical-align: middle;\n    }\n\n    .dataframe tbody tr th {\n        vertical-align: top;\n    }\n\n    .dataframe thead th {\n        text-align: right;\n    }\n</style>\n<table border=\"1\" class=\"dataframe\">\n  <thead>\n    <tr style=\"text-align: right;\">\n      <th></th>\n      <th>Pclass</th>\n      <th>Sex</th>\n      <th>Age</th>\n      <th>SibSp</th>\n      <th>Parch</th>\n      <th>Fare</th>\n      <th>Embarked</th>\n    </tr>\n  </thead>\n  <tbody>\n    <tr>\n      <th>0</th>\n      <td>3</td>\n      <td>male</td>\n      <td>34.5</td>\n      <td>0</td>\n      <td>0</td>\n      <td>7.8292</td>\n      <td>Q</td>\n    </tr>\n    <tr>\n      <th>1</th>\n      <td>3</td>\n      <td>female</td>\n      <td>47.0</td>\n      <td>1</td>\n      <td>0</td>\n      <td>7.0000</td>\n      <td>S</td>\n    </tr>\n    <tr>\n      <th>2</th>\n      <td>2</td>\n      <td>male</td>\n      <td>62.0</td>\n      <td>0</td>\n      <td>0</td>\n      <td>9.6875</td>\n      <td>Q</td>\n    </tr>\n    <tr>\n      <th>3</th>\n      <td>3</td>\n      <td>male</td>\n      <td>27.0</td>\n      <td>0</td>\n      <td>0</td>\n      <td>8.6625</td>\n      <td>S</td>\n    </tr>\n    <tr>\n      <th>4</th>\n      <td>3</td>\n      <td>female</td>\n      <td>22.0</td>\n      <td>1</td>\n      <td>1</td>\n      <td>12.2875</td>\n      <td>S</td>\n    </tr>\n    <tr>\n      <th>...</th>\n      <td>...</td>\n      <td>...</td>\n      <td>...</td>\n      <td>...</td>\n      <td>...</td>\n      <td>...</td>\n      <td>...</td>\n    </tr>\n    <tr>\n      <th>413</th>\n      <td>3</td>\n      <td>male</td>\n      <td>NaN</td>\n      <td>0</td>\n      <td>0</td>\n      <td>8.0500</td>\n      <td>S</td>\n    </tr>\n    <tr>\n      <th>414</th>\n      <td>1</td>\n      <td>female</td>\n      <td>39.0</td>\n      <td>0</td>\n      <td>0</td>\n      <td>108.9000</td>\n      <td>C</td>\n    </tr>\n    <tr>\n      <th>415</th>\n      <td>3</td>\n      <td>male</td>\n      <td>38.5</td>\n      <td>0</td>\n      <td>0</td>\n      <td>7.2500</td>\n      <td>S</td>\n    </tr>\n    <tr>\n      <th>416</th>\n      <td>3</td>\n      <td>male</td>\n      <td>NaN</td>\n      <td>0</td>\n      <td>0</td>\n      <td>8.0500</td>\n      <td>S</td>\n    </tr>\n    <tr>\n      <th>417</th>\n      <td>3</td>\n      <td>male</td>\n      <td>NaN</td>\n      <td>1</td>\n      <td>1</td>\n      <td>22.3583</td>\n      <td>C</td>\n    </tr>\n  </tbody>\n</table>\n<p>418 rows × 7 columns</p>\n</div>"
     },
     "execution_count": 195,
     "metadata": {},
     "output_type": "execute_result"
    }
   ],
   "source": [
    "data2 = pd.read_csv(\"test.csv\")\n",
    "y_test = pd.read_csv(\"gender_submission.csv\").Survived\n",
    "x_test = data2.drop(['PassengerId', 'Name', 'Ticket', 'Cabin'], axis=1)\n",
    "x_test"
   ],
   "metadata": {
    "collapsed": false
   }
  },
  {
   "cell_type": "code",
   "execution_count": 196,
   "outputs": [
    {
     "name": "stderr",
     "output_type": "stream",
     "text": [
      "/var/folders/p8/hs842n8x29x1xnhy3skzz61h0000gn/T/ipykernel_3889/4086159060.py:14: SettingWithCopyWarning: \n",
      "A value is trying to be set on a copy of a slice from a DataFrame\n",
      "\n",
      "See the caveats in the documentation: https://pandas.pydata.org/pandas-docs/stable/user_guide/indexing.html#returning-a-view-versus-a-copy\n",
      "  x_train.Sex[x_train.Sex == \"male\"] = 1\n",
      "/var/folders/p8/hs842n8x29x1xnhy3skzz61h0000gn/T/ipykernel_3889/4086159060.py:15: SettingWithCopyWarning: \n",
      "A value is trying to be set on a copy of a slice from a DataFrame\n",
      "\n",
      "See the caveats in the documentation: https://pandas.pydata.org/pandas-docs/stable/user_guide/indexing.html#returning-a-view-versus-a-copy\n",
      "  x_train.Sex[x_train.Sex == \"female\"] = 0\n",
      "/var/folders/p8/hs842n8x29x1xnhy3skzz61h0000gn/T/ipykernel_3889/4086159060.py:17: SettingWithCopyWarning: \n",
      "A value is trying to be set on a copy of a slice from a DataFrame\n",
      "\n",
      "See the caveats in the documentation: https://pandas.pydata.org/pandas-docs/stable/user_guide/indexing.html#returning-a-view-versus-a-copy\n",
      "  x_test.Sex[x_test.Sex == \"male\"] = 1\n",
      "/var/folders/p8/hs842n8x29x1xnhy3skzz61h0000gn/T/ipykernel_3889/4086159060.py:18: SettingWithCopyWarning: \n",
      "A value is trying to be set on a copy of a slice from a DataFrame\n",
      "\n",
      "See the caveats in the documentation: https://pandas.pydata.org/pandas-docs/stable/user_guide/indexing.html#returning-a-view-versus-a-copy\n",
      "  x_test.Sex[x_test.Sex == \"female\"] = 0\n",
      "/var/folders/p8/hs842n8x29x1xnhy3skzz61h0000gn/T/ipykernel_3889/4086159060.py:21: SettingWithCopyWarning: \n",
      "A value is trying to be set on a copy of a slice from a DataFrame\n",
      "\n",
      "See the caveats in the documentation: https://pandas.pydata.org/pandas-docs/stable/user_guide/indexing.html#returning-a-view-versus-a-copy\n",
      "  x_train[\"PC1\"][x_train.Pclass == 1] = 1\n",
      "/var/folders/p8/hs842n8x29x1xnhy3skzz61h0000gn/T/ipykernel_3889/4086159060.py:22: SettingWithCopyWarning: \n",
      "A value is trying to be set on a copy of a slice from a DataFrame\n",
      "\n",
      "See the caveats in the documentation: https://pandas.pydata.org/pandas-docs/stable/user_guide/indexing.html#returning-a-view-versus-a-copy\n",
      "  x_train[\"PC2\"][x_train.Pclass == 2] = 1\n",
      "/var/folders/p8/hs842n8x29x1xnhy3skzz61h0000gn/T/ipykernel_3889/4086159060.py:23: SettingWithCopyWarning: \n",
      "A value is trying to be set on a copy of a slice from a DataFrame\n",
      "\n",
      "See the caveats in the documentation: https://pandas.pydata.org/pandas-docs/stable/user_guide/indexing.html#returning-a-view-versus-a-copy\n",
      "  x_train[\"PC3\"][x_train.Pclass == 3] = 1\n",
      "/var/folders/p8/hs842n8x29x1xnhy3skzz61h0000gn/T/ipykernel_3889/4086159060.py:27: SettingWithCopyWarning: \n",
      "A value is trying to be set on a copy of a slice from a DataFrame\n",
      "\n",
      "See the caveats in the documentation: https://pandas.pydata.org/pandas-docs/stable/user_guide/indexing.html#returning-a-view-versus-a-copy\n",
      "  x_test[\"PC1\"][x_test.Pclass == 1] = 1\n",
      "/var/folders/p8/hs842n8x29x1xnhy3skzz61h0000gn/T/ipykernel_3889/4086159060.py:28: SettingWithCopyWarning: \n",
      "A value is trying to be set on a copy of a slice from a DataFrame\n",
      "\n",
      "See the caveats in the documentation: https://pandas.pydata.org/pandas-docs/stable/user_guide/indexing.html#returning-a-view-versus-a-copy\n",
      "  x_test[\"PC2\"][x_test.Pclass == 2] = 1\n",
      "/var/folders/p8/hs842n8x29x1xnhy3skzz61h0000gn/T/ipykernel_3889/4086159060.py:29: SettingWithCopyWarning: \n",
      "A value is trying to be set on a copy of a slice from a DataFrame\n",
      "\n",
      "See the caveats in the documentation: https://pandas.pydata.org/pandas-docs/stable/user_guide/indexing.html#returning-a-view-versus-a-copy\n",
      "  x_test[\"PC3\"][x_test.Pclass == 3] = 1\n",
      "/var/folders/p8/hs842n8x29x1xnhy3skzz61h0000gn/T/ipykernel_3889/4086159060.py:33: SettingWithCopyWarning: \n",
      "A value is trying to be set on a copy of a slice from a DataFrame\n",
      "\n",
      "See the caveats in the documentation: https://pandas.pydata.org/pandas-docs/stable/user_guide/indexing.html#returning-a-view-versus-a-copy\n",
      "  x_train[\"QC1\"][x_train.Embarked == \"C\"] = 1\n",
      "/var/folders/p8/hs842n8x29x1xnhy3skzz61h0000gn/T/ipykernel_3889/4086159060.py:34: SettingWithCopyWarning: \n",
      "A value is trying to be set on a copy of a slice from a DataFrame\n",
      "\n",
      "See the caveats in the documentation: https://pandas.pydata.org/pandas-docs/stable/user_guide/indexing.html#returning-a-view-versus-a-copy\n",
      "  x_train[\"QC2\"][x_train.Embarked == \"Q\"] = 1\n",
      "/var/folders/p8/hs842n8x29x1xnhy3skzz61h0000gn/T/ipykernel_3889/4086159060.py:35: SettingWithCopyWarning: \n",
      "A value is trying to be set on a copy of a slice from a DataFrame\n",
      "\n",
      "See the caveats in the documentation: https://pandas.pydata.org/pandas-docs/stable/user_guide/indexing.html#returning-a-view-versus-a-copy\n",
      "  x_train[\"QC3\"][x_train.Embarked == \"S\"] = 1\n",
      "/var/folders/p8/hs842n8x29x1xnhy3skzz61h0000gn/T/ipykernel_3889/4086159060.py:39: SettingWithCopyWarning: \n",
      "A value is trying to be set on a copy of a slice from a DataFrame\n",
      "\n",
      "See the caveats in the documentation: https://pandas.pydata.org/pandas-docs/stable/user_guide/indexing.html#returning-a-view-versus-a-copy\n",
      "  x_test[\"QC1\"][x_test.Embarked == \"C\"] = 1\n",
      "/var/folders/p8/hs842n8x29x1xnhy3skzz61h0000gn/T/ipykernel_3889/4086159060.py:40: SettingWithCopyWarning: \n",
      "A value is trying to be set on a copy of a slice from a DataFrame\n",
      "\n",
      "See the caveats in the documentation: https://pandas.pydata.org/pandas-docs/stable/user_guide/indexing.html#returning-a-view-versus-a-copy\n",
      "  x_test[\"QC2\"][x_test.Embarked == \"Q\"] = 1\n",
      "/var/folders/p8/hs842n8x29x1xnhy3skzz61h0000gn/T/ipykernel_3889/4086159060.py:41: SettingWithCopyWarning: \n",
      "A value is trying to be set on a copy of a slice from a DataFrame\n",
      "\n",
      "See the caveats in the documentation: https://pandas.pydata.org/pandas-docs/stable/user_guide/indexing.html#returning-a-view-versus-a-copy\n",
      "  x_test[\"QC3\"][x_test.Embarked == \"S\"] = 1\n"
     ]
    },
    {
     "data": {
      "text/plain": "    Sex    Age  SibSp     Parch      Fare  PC1  PC2  PC3  QC1  QC2  QC3\n0     1  0.345      0  0.000000  0.015282    0    0    1    0    1    0\n1     0  0.470      1  0.000000  0.013663    0    0    1    0    0    1\n2     1  0.620      0  0.000000  0.018909    0    1    0    0    1    0\n3     1  0.270      0  0.000000  0.016908    0    0    1    0    0    1\n4     0  0.220      1  0.166667  0.023984    0    0    1    0    0    1\n..   ..    ...    ...       ...       ...  ...  ...  ...  ...  ...  ...\n413   0  0.000      0  0.000000  0.000000    0    0    0    0    0    0\n414   0  0.390      0  0.000000  0.212559    1    0    0    1    0    0\n415   1  0.385      0  0.000000  0.014151    0    0    1    0    0    1\n416   0  0.000      0  0.000000  0.000000    0    0    0    0    0    0\n417   0  0.000      0  0.000000  0.000000    0    0    0    0    0    0\n\n[418 rows x 11 columns]",
      "text/html": "<div>\n<style scoped>\n    .dataframe tbody tr th:only-of-type {\n        vertical-align: middle;\n    }\n\n    .dataframe tbody tr th {\n        vertical-align: top;\n    }\n\n    .dataframe thead th {\n        text-align: right;\n    }\n</style>\n<table border=\"1\" class=\"dataframe\">\n  <thead>\n    <tr style=\"text-align: right;\">\n      <th></th>\n      <th>Sex</th>\n      <th>Age</th>\n      <th>SibSp</th>\n      <th>Parch</th>\n      <th>Fare</th>\n      <th>PC1</th>\n      <th>PC2</th>\n      <th>PC3</th>\n      <th>QC1</th>\n      <th>QC2</th>\n      <th>QC3</th>\n    </tr>\n  </thead>\n  <tbody>\n    <tr>\n      <th>0</th>\n      <td>1</td>\n      <td>0.345</td>\n      <td>0</td>\n      <td>0.000000</td>\n      <td>0.015282</td>\n      <td>0</td>\n      <td>0</td>\n      <td>1</td>\n      <td>0</td>\n      <td>1</td>\n      <td>0</td>\n    </tr>\n    <tr>\n      <th>1</th>\n      <td>0</td>\n      <td>0.470</td>\n      <td>1</td>\n      <td>0.000000</td>\n      <td>0.013663</td>\n      <td>0</td>\n      <td>0</td>\n      <td>1</td>\n      <td>0</td>\n      <td>0</td>\n      <td>1</td>\n    </tr>\n    <tr>\n      <th>2</th>\n      <td>1</td>\n      <td>0.620</td>\n      <td>0</td>\n      <td>0.000000</td>\n      <td>0.018909</td>\n      <td>0</td>\n      <td>1</td>\n      <td>0</td>\n      <td>0</td>\n      <td>1</td>\n      <td>0</td>\n    </tr>\n    <tr>\n      <th>3</th>\n      <td>1</td>\n      <td>0.270</td>\n      <td>0</td>\n      <td>0.000000</td>\n      <td>0.016908</td>\n      <td>0</td>\n      <td>0</td>\n      <td>1</td>\n      <td>0</td>\n      <td>0</td>\n      <td>1</td>\n    </tr>\n    <tr>\n      <th>4</th>\n      <td>0</td>\n      <td>0.220</td>\n      <td>1</td>\n      <td>0.166667</td>\n      <td>0.023984</td>\n      <td>0</td>\n      <td>0</td>\n      <td>1</td>\n      <td>0</td>\n      <td>0</td>\n      <td>1</td>\n    </tr>\n    <tr>\n      <th>...</th>\n      <td>...</td>\n      <td>...</td>\n      <td>...</td>\n      <td>...</td>\n      <td>...</td>\n      <td>...</td>\n      <td>...</td>\n      <td>...</td>\n      <td>...</td>\n      <td>...</td>\n      <td>...</td>\n    </tr>\n    <tr>\n      <th>413</th>\n      <td>0</td>\n      <td>0.000</td>\n      <td>0</td>\n      <td>0.000000</td>\n      <td>0.000000</td>\n      <td>0</td>\n      <td>0</td>\n      <td>0</td>\n      <td>0</td>\n      <td>0</td>\n      <td>0</td>\n    </tr>\n    <tr>\n      <th>414</th>\n      <td>0</td>\n      <td>0.390</td>\n      <td>0</td>\n      <td>0.000000</td>\n      <td>0.212559</td>\n      <td>1</td>\n      <td>0</td>\n      <td>0</td>\n      <td>1</td>\n      <td>0</td>\n      <td>0</td>\n    </tr>\n    <tr>\n      <th>415</th>\n      <td>1</td>\n      <td>0.385</td>\n      <td>0</td>\n      <td>0.000000</td>\n      <td>0.014151</td>\n      <td>0</td>\n      <td>0</td>\n      <td>1</td>\n      <td>0</td>\n      <td>0</td>\n      <td>1</td>\n    </tr>\n    <tr>\n      <th>416</th>\n      <td>0</td>\n      <td>0.000</td>\n      <td>0</td>\n      <td>0.000000</td>\n      <td>0.000000</td>\n      <td>0</td>\n      <td>0</td>\n      <td>0</td>\n      <td>0</td>\n      <td>0</td>\n      <td>0</td>\n    </tr>\n    <tr>\n      <th>417</th>\n      <td>0</td>\n      <td>0.000</td>\n      <td>0</td>\n      <td>0.000000</td>\n      <td>0.000000</td>\n      <td>0</td>\n      <td>0</td>\n      <td>0</td>\n      <td>0</td>\n      <td>0</td>\n      <td>0</td>\n    </tr>\n  </tbody>\n</table>\n<p>418 rows × 11 columns</p>\n</div>"
     },
     "execution_count": 196,
     "metadata": {},
     "output_type": "execute_result"
    }
   ],
   "source": [
    "x_train.Age /= 100\n",
    "x_test.Age /= 100\n",
    "x_train[x_train.Age.isnull()] = 0\n",
    "x_test[x_test.Age.isnull()] = 0\n",
    "\n",
    "m = 6\n",
    "x_train.Parch /= m\n",
    "x_test.Parch /= m\n",
    "\n",
    "m = max(x_train.Fare)\n",
    "x_train.Fare /= m\n",
    "x_test.Fare /= m\n",
    "\n",
    "x_train.Sex[x_train.Sex == \"male\"] = 1\n",
    "x_train.Sex[x_train.Sex == \"female\"] = 0\n",
    "\n",
    "x_test.Sex[x_test.Sex == \"male\"] = 1\n",
    "x_test.Sex[x_test.Sex == \"female\"] = 0\n",
    "\n",
    "x_train[[\"PC1\", \"PC2\", \"PC3\"]] = 0\n",
    "x_train[\"PC1\"][x_train.Pclass == 1] = 1\n",
    "x_train[\"PC2\"][x_train.Pclass == 2] = 1\n",
    "x_train[\"PC3\"][x_train.Pclass == 3] = 1\n",
    "del x_train[\"Pclass\"]\n",
    "\n",
    "x_test[[\"PC1\", \"PC2\", \"PC3\"]] = 0\n",
    "x_test[\"PC1\"][x_test.Pclass == 1] = 1\n",
    "x_test[\"PC2\"][x_test.Pclass == 2] = 1\n",
    "x_test[\"PC3\"][x_test.Pclass == 3] = 1\n",
    "del x_test[\"Pclass\"]\n",
    "\n",
    "x_train[[\"QC1\", \"QC2\", \"QC3\"]] = 0\n",
    "x_train[\"QC1\"][x_train.Embarked == \"C\"] = 1\n",
    "x_train[\"QC2\"][x_train.Embarked == \"Q\"] = 1\n",
    "x_train[\"QC3\"][x_train.Embarked == \"S\"] = 1\n",
    "del x_train[\"Embarked\"]\n",
    "\n",
    "x_test[[\"QC1\", \"QC2\", \"QC3\"]] = 0\n",
    "x_test[\"QC1\"][x_test.Embarked == \"C\"] = 1\n",
    "x_test[\"QC2\"][x_test.Embarked == \"Q\"] = 1\n",
    "x_test[\"QC3\"][x_test.Embarked == \"S\"] = 1\n",
    "del x_test[\"Embarked\"]\n",
    "\n",
    "x_test"
   ],
   "metadata": {
    "collapsed": false
   }
  },
  {
   "cell_type": "code",
   "execution_count": 197,
   "outputs": [
    {
     "data": {
      "text/plain": "((891, 11), (891,), (418, 11), (418,))"
     },
     "execution_count": 197,
     "metadata": {},
     "output_type": "execute_result"
    }
   ],
   "source": [
    "x_train = np.array(x_train, dtype=np.float32)\n",
    "y_train = np.array(y_train, dtype=np.float32)\n",
    "\n",
    "x_test = np.array(x_test, dtype=np.float32)\n",
    "y_test = np.array(y_test, dtype=np.float32)\n",
    "x_train.shape, y_train.shape, x_test.shape, y_test.shape"
   ],
   "metadata": {
    "collapsed": false
   }
  },
  {
   "cell_type": "code",
   "execution_count": 198,
   "outputs": [
    {
     "name": "stdout",
     "output_type": "stream",
     "text": [
      "Epoch 1/16\n",
      "28/28 [==============================] - 0s 619us/step - loss: 0.6762 - accuracy: 0.6173\n",
      "Epoch 2/16\n",
      "28/28 [==============================] - 0s 607us/step - loss: 0.6187 - accuracy: 0.6723\n",
      "Epoch 3/16\n",
      "28/28 [==============================] - 0s 510us/step - loss: 0.5707 - accuracy: 0.7273\n",
      "Epoch 4/16\n",
      "28/28 [==============================] - 0s 550us/step - loss: 0.5225 - accuracy: 0.7699\n",
      "Epoch 5/16\n",
      "28/28 [==============================] - 0s 500us/step - loss: 0.4962 - accuracy: 0.7789\n",
      "Epoch 6/16\n",
      "28/28 [==============================] - 0s 541us/step - loss: 0.4900 - accuracy: 0.7722\n",
      "Epoch 7/16\n",
      "28/28 [==============================] - 0s 490us/step - loss: 0.4906 - accuracy: 0.7632\n",
      "Epoch 8/16\n",
      "28/28 [==============================] - 0s 517us/step - loss: 0.4834 - accuracy: 0.7778\n",
      "Epoch 9/16\n",
      "28/28 [==============================] - 0s 499us/step - loss: 0.4798 - accuracy: 0.7834\n",
      "Epoch 10/16\n",
      "28/28 [==============================] - 0s 600us/step - loss: 0.4727 - accuracy: 0.7823\n",
      "Epoch 11/16\n",
      "28/28 [==============================] - 0s 496us/step - loss: 0.4708 - accuracy: 0.7879\n",
      "Epoch 12/16\n",
      "28/28 [==============================] - 0s 561us/step - loss: 0.4812 - accuracy: 0.7744\n",
      "Epoch 13/16\n",
      "28/28 [==============================] - 0s 494us/step - loss: 0.4692 - accuracy: 0.7811\n",
      "Epoch 14/16\n",
      "28/28 [==============================] - 0s 496us/step - loss: 0.4703 - accuracy: 0.7879\n",
      "Epoch 15/16\n",
      "28/28 [==============================] - 0s 519us/step - loss: 0.4699 - accuracy: 0.7800\n",
      "Epoch 16/16\n",
      "28/28 [==============================] - 0s 481us/step - loss: 0.4662 - accuracy: 0.7823\n"
     ]
    }
   ],
   "source": [
    "model = tf.keras.Sequential([\n",
    "    Input((11,)),\n",
    "    Dense(64, \"relu\"),\n",
    "    Dropout(0.1),\n",
    "    Dense(32, \"relu\"),\n",
    "    Dropout(0.1),\n",
    "    Dense(8, \"relu\"),\n",
    "    Dense(1, \"sigmoid\"),\n",
    "])\n",
    "model.compile(\"adam\", \"binary_crossentropy\", ['accuracy'], )\n",
    "his = model.fit(x_train, y_train, 32, 16,\n",
    "                validation_split=0.2\n",
    "                ).history"
   ],
   "metadata": {
    "collapsed": false
   }
  },
  {
   "cell_type": "code",
   "execution_count": 199,
   "outputs": [
    {
     "name": "stdout",
     "output_type": "stream",
     "text": [
      "14/14 [==============================] - 0s 489us/step - loss: nan - accuracy: 0.8397\n"
     ]
    },
    {
     "data": {
      "text/plain": "[nan, 0.839712917804718]"
     },
     "execution_count": 199,
     "metadata": {},
     "output_type": "execute_result"
    }
   ],
   "source": [
    "model.evaluate(x_test, y_test)"
   ],
   "metadata": {
    "collapsed": false
   }
  },
  {
   "cell_type": "code",
   "execution_count": 200,
   "outputs": [
    {
     "data": {
      "text/plain": "[<matplotlib.lines.Line2D at 0x17bbfd270>]"
     },
     "execution_count": 200,
     "metadata": {},
     "output_type": "execute_result"
    },
    {
     "data": {
      "text/plain": "<Figure size 640x480 with 1 Axes>",
      "image/png": "[encoded data removed]"
     },
     "metadata": {},
     "output_type": "display_data"
    }
   ],
   "source": [
    "plt.plot(his[\"accuracy\"], c=\"b\")\n",
    "plt.plot(his[\"val_accuracy\"], c=\"r\")"
   ],
   "metadata": {
    "collapsed": false
   }
  },
  {
   "cell_type": "code",
   "execution_count": 201,
   "outputs": [
    {
     "name": "stdout",
     "output_type": "stream",
     "text": [
      "14/14 [==============================] - 0s 786us/step\n"
     ]
    }
   ],
   "source": [
    "res = pd.read_csv(\"gender_submission.csv\")\n",
    "pr = model.predict(x_test)\n",
    "pr.shape = (-1,)\n",
    "res.Survived = 0\n",
    "res.Survived[pr >= 0.5] = 1\n",
    "res.to_csv('result.csv', index=False)"
   ],
   "metadata": {
    "collapsed": false
   }
  }
 ],
 "metadata": {
  "kernelspec": {
   "display_name": "Python 3",
   "language": "python",
   "name": "python3"
  },
  "language_info": {
   "codemirror_mode": {
    "name": "ipython",
    "version": 2
   },
   "file_extension": ".py",
   "mimetype": "text/x-python",
   "name": "python",
   "nbconvert_exporter": "python",
   "pygments_lexer": "ipython2",
   "version": "2.7.6"
  }
 },
 "nbformat": 4,
 "nbformat_minor": 0
}
